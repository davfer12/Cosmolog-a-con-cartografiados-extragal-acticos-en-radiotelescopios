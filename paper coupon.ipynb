{
 "cells": [
  {
   "cell_type": "code",
   "execution_count": 1,
   "metadata": {},
   "outputs": [],
   "source": [
    "import numpy as np\n",
    "import scipy as sp\n",
    "from scipy.integrate import quad\n",
    "import matplotlib.pyplot as plt\n",
    "%matplotlib inline\n",
    "import camb\n",
    "from camb import model, initialpower\n",
    "from colossus.cosmology import cosmology  \n",
    "from colossus.halo import mass_so\n",
    "from colossus.lss import mass_function\n",
    "from colossus.lss import bias"
   ]
  },
  {
   "cell_type": "code",
   "execution_count": 2,
   "metadata": {},
   "outputs": [],
   "source": [
    "params = cosmology.cosmologies['planck15']\n",
    "params['Om0'] = 0.281\n",
    "params['Ob0'] = 0.0462\n",
    "params['Ode0'] = 0.719\n",
    "params['H0'] = 71\n",
    "cosmo = cosmology.setCosmology('planck15',params)\n",
    "\n",
    "\n",
    "Omega_m = 0.281\n",
    "Omega_b = 0.0462\n",
    "Omega_lambda = 0.719\n",
    "h = 0.71\n",
    "alpha = 0.17\n",
    "beta = -0.55\n",
    "v_c0 = 37.1535  #km/s\n",
    "v_c1 = 24547.08916 #km/s"
   ]
  },
  {
   "cell_type": "code",
   "execution_count": 3,
   "metadata": {
    "scrolled": false
   },
   "outputs": [
    {
     "data": {
      "text/plain": [
       "class: <CAMBparams>\n",
       " WantCls = True\n",
       " WantTransfer = False\n",
       " WantScalars = True\n",
       " WantTensors = False\n",
       " WantVectors = False\n",
       " WantDerivedParameters = True\n",
       " Want_cl_2D_array = True\n",
       " Want_CMB = True\n",
       " Want_CMB_lensing = True\n",
       " DoLensing = True\n",
       " NonLinear = NonLinear_none\n",
       " Transfer: <TransferParams>\n",
       "   high_precision = False\n",
       "   accurate_massive_neutrinos = False\n",
       "   kmax = 0.9\n",
       "   k_per_logint = 0\n",
       "   PK_num_redshifts = 1\n",
       "   PK_redshifts = [0.0]\n",
       " want_zstar = False\n",
       " want_zdrag = False\n",
       " min_l = 2\n",
       " max_l = 2500\n",
       " max_l_tensor = 600\n",
       " max_eta_k = 5000.0\n",
       " max_eta_k_tensor = 1200.0\n",
       " ombh2 = 0.02328942\n",
       " omch2 = 0.11836268\n",
       " omk = 0.0\n",
       " omnuh2 = 0.0\n",
       " H0 = 71.0\n",
       " TCMB = 2.7255\n",
       " YHe = 0.2457852828457311\n",
       " num_nu_massless = 3.046\n",
       " num_nu_massive = 0\n",
       " nu_mass_eigenstates = 0\n",
       " share_delta_neff = False\n",
       " nu_mass_degeneracies = []\n",
       " nu_mass_fractions = []\n",
       " nu_mass_numbers = []\n",
       " InitPower: <InitialPowerLaw>\n",
       "   tensor_parameterization = tensor_param_rpivot\n",
       "   ns = 0.96\n",
       "   nrun = 0.0\n",
       "   nrunrun = 0.0\n",
       "   nt = -0.0\n",
       "   ntrun = -0.0\n",
       "   r = 0.0\n",
       "   pivot_scalar = 0.05\n",
       "   pivot_tensor = 0.05\n",
       "   As = 2e-09\n",
       "   At = 1.0\n",
       " Recomb: <Recfast>\n",
       "   min_a_evolve_Tm = 0.0011098779505118728\n",
       "   RECFAST_fudge = 1.125\n",
       "   RECFAST_fudge_He = 0.86\n",
       "   RECFAST_Heswitch = 6\n",
       "   RECFAST_Hswitch = True\n",
       "   AGauss1 = -0.14\n",
       "   AGauss2 = 0.079\n",
       "   zGauss1 = 7.28\n",
       "   zGauss2 = 6.73\n",
       "   wGauss1 = 0.18\n",
       "   wGauss2 = 0.33\n",
       " Reion: <TanhReionization>\n",
       "   Reionization = True\n",
       "   use_optical_depth = True\n",
       "   redshift = 10.0\n",
       "   optical_depth = 0.06\n",
       "   delta_redshift = 0.5\n",
       "   fraction = -1.0\n",
       "   include_helium_fullreion = True\n",
       "   helium_redshift = 3.5\n",
       "   helium_delta_redshift = 0.4\n",
       "   helium_redshiftstart = 5.5\n",
       "   tau_solve_accuracy_boost = 1.0\n",
       "   timestep_boost = 1.0\n",
       "   max_redshift = 50.0\n",
       " DarkEnergy: <DarkEnergyFluid>\n",
       "   w = -1.0\n",
       "   wa = 0.0\n",
       "   cs2 = 1.0\n",
       "   use_tabulated_w = False\n",
       " NonLinearModel: <Halofit>\n",
       "   Min_kh_nonlinear = 0.005\n",
       "   halofit_version = mead\n",
       "   HMCode_A_baryon = 3.13\n",
       "   HMCode_eta_baryon = 0.603\n",
       " Accuracy: <AccuracyParams>\n",
       "   AccuracyBoost = 1.0\n",
       "   lSampleBoost = 1.0\n",
       "   lAccuracyBoost = 1.0\n",
       "   AccuratePolarization = True\n",
       "   AccurateBB = False\n",
       "   AccurateReionization = True\n",
       "   TimeStepBoost = 1.0\n",
       "   BackgroundTimeStepBoost = 1.0\n",
       "   IntTolBoost = 1.0\n",
       "   SourcekAccuracyBoost = 1.0\n",
       "   IntkAccuracyBoost = 1.0\n",
       "   TransferkBoost = 1.0\n",
       "   NonFlatIntAccuracyBoost = 1.0\n",
       "   BessIntBoost = 1.0\n",
       "   LensingBoost = 1.0\n",
       "   NonlinSourceBoost = 1.0\n",
       "   BesselBoost = 1.0\n",
       "   LimberBoost = 1.0\n",
       "   SourceLimberBoost = 1.0\n",
       "   KmaxBoost = 1.0\n",
       "   neutrino_q_boost = 1.0\n",
       " SourceTerms: <SourceTermParams>\n",
       "   limber_windows = True\n",
       "   limber_phi_lmin = 100\n",
       "   counts_density = True\n",
       "   counts_redshift = True\n",
       "   counts_lensing = False\n",
       "   counts_velocity = True\n",
       "   counts_radial = False\n",
       "   counts_timedelay = True\n",
       "   counts_ISW = True\n",
       "   counts_potential = True\n",
       "   counts_evolve = False\n",
       "   line_phot_dipole = False\n",
       "   line_phot_quadrupole = False\n",
       "   line_basic = True\n",
       "   line_distortions = True\n",
       "   line_extra = False\n",
       "   line_reionization = False\n",
       "   use_21cm_mK = True\n",
       " z_outputs = []\n",
       " scalar_initial_condition = initial_adiabatic\n",
       " InitialConditionVector = []\n",
       " OutputNormalization = 1\n",
       " Alens = 1.0\n",
       " MassiveNuMethod = Nu_best\n",
       " DoLateRadTruncation = True\n",
       " Evolve_baryon_cs = False\n",
       " Evolve_delta_xe = False\n",
       " Evolve_delta_Ts = False\n",
       " Do21cm = False\n",
       " transfer_21cm_cl = False\n",
       " Log_lvalues = False\n",
       " use_cl_spline_template = True\n",
       " SourceWindows = []\n",
       " CustomSources: <CustomSources>\n",
       "   num_custom_sources = 0\n",
       "   c_source_func = None\n",
       "   custom_source_ell_scales = []\n",
       " "
      ]
     },
     "execution_count": 3,
     "metadata": {},
     "output_type": "execute_result"
    }
   ],
   "source": [
    "pars = camb.CAMBparams()\n",
    "pars.set_cosmology(H0=71, ombh2=0.02328942, omch2=0.11836268, mnu=0, omk=0, tau=0.06)"
   ]
  },
  {
   "cell_type": "code",
   "execution_count": 4,
   "metadata": {},
   "outputs": [
    {
     "data": {
      "text/plain": [
       "<numpy.vectorize at 0x14549bcd7c8>"
      ]
     },
     "execution_count": 4,
     "metadata": {},
     "output_type": "execute_result"
    }
   ],
   "source": [
    "def M_HI(M,alpha,beta,v_c0,v_c1,Omega_m,Omega_b,h,z,Delta_c):\n",
    "    v_c=96.6*((Delta_c*Omega_m*(h**2)/24.4)**(1/6))*(((1+z)/3.3)**(1/2))*((M/10**11)**(1/3))\n",
    "    f_HI=(Omega_b/Omega_m)*(0.75) # (1-Y)*Omega_b/Omega_m\n",
    "    return alpha*f_HI*M*((M*h/1e11)**beta)*np.exp(-(v_c0/v_c)**3)*np.exp(-(v_c/v_c1)**3)\n",
    "np.vectorize(M_HI)"
   ]
  },
  {
   "cell_type": "markdown",
   "metadata": {},
   "source": [
    "## Utilizando las funciones de colossus"
   ]
  },
  {
   "cell_type": "code",
   "execution_count": 5,
   "metadata": {},
   "outputs": [],
   "source": [
    "# Se va a intentar despejar n de ahí. Se tiene que n=(dn/dlnM) (unidades de (Mpc/h)**(-3))\n",
    "def n(Masa, z):\n",
    "    n = mass_function.massFunction(Masa, z, mdef = 'fof', model = 'sheth99', q_out = 'dndlnM')\n",
    "    return n"
   ]
  },
  {
   "cell_type": "code",
   "execution_count": 6,
   "metadata": {
    "scrolled": false
   },
   "outputs": [
    {
     "data": {
      "image/png": "[encoded data removed]",
      "text/plain": [
       "<Figure size 432x288 with 1 Axes>"
      ]
     },
     "metadata": {
      "needs_background": "light"
     },
     "output_type": "display_data"
    }
   ],
   "source": [
    "plt.figure()\n",
    "plt.xscale('log')\n",
    "plt.yscale('log')\n",
    "plt.xlabel(r'$M \\; (M_{\\odot})$')\n",
    "plt.ylabel(r'n (M,z) (${(Mpc \\; / \\; h)}^{-3}$)')\n",
    "\n",
    "title_obj = plt.title('n(M,z) colossus')            \n",
    "plt.setp(title_obj, color='white') \n",
    "redshift = np.linspace(0,2,5)\n",
    "Masa = np.logspace(0,15)\n",
    "for z in redshift:\n",
    "    plt.plot(Masa,n(Masa, z),label='z = {:.1f}'.format(z))\n",
    "    plt.legend()\n",
    "ax = plt.gca()\n",
    "#ax.xaxis.label.set_color('white')\n",
    "#ax.tick_params(axis='x', colors='white')\n",
    "#ax.yaxis.label.set_color('white')\n",
    "#ax.tick_params(axis='y', colors='white')\n",
    "plt.savefig('Presentación/n.png',dpi=300)\n",
    "plt.show()"
   ]
  },
  {
   "cell_type": "code",
   "execution_count": 7,
   "metadata": {
    "scrolled": false
   },
   "outputs": [],
   "source": [
    "def Omega_HI(z,alpha,beta,v_c0,v_c1,Omega_m,Omega_b,h):\n",
    "    Masa = np.logspace(1,15,500)\n",
    "    potencia = np.log10(Masa[1]/Masa[0])\n",
    "    dMasa = Masa*(10**potencia-1)\n",
    "    dMasa = np.array(dMasa)\n",
    "    Delta_c = mass_so.deltaVir(z)\n",
    "    Omega_HI = M_HI(Masa,alpha,beta,v_c0,v_c1,Omega_m,Omega_b,h,z,Delta_c)*(1/Masa)*n(Masa, z)*dMasa\n",
    "    Omega_HI = sum(Omega_HI) #unidades de (Msol)(Mpc/h)**(-3)) \n",
    "    return (1/cosmo.rho_c(0))*Omega_HI*(h/1000**3) #adimensional (comprobado)\n",
    "Omega_HI = np.vectorize(Omega_HI)\n"
   ]
  },
  {
   "cell_type": "code",
   "execution_count": 8,
   "metadata": {},
   "outputs": [
    {
     "data": {
      "image/png": "[encoded data removed]",
      "text/plain": [
       "<Figure size 432x288 with 1 Axes>"
      ]
     },
     "metadata": {
      "needs_background": "light"
     },
     "output_type": "display_data"
    }
   ],
   "source": [
    "z=np.linspace(0,6,100,endpoint=True)\n",
    "plt.figure()\n",
    "plt.plot(z,1000*Omega_HI(z,alpha,beta,v_c0,v_c1,Omega_m,Omega_b,h))\n",
    "plt.xlabel('z')\n",
    "plt.ylabel(r'$10^3 \\; \\Omega_{HI}$',fontsize=20)\n",
    "ax = plt.gca()\n",
    "#ax.xaxis.label.set_color('white')\n",
    "#ax.tick_params(axis='x', colors='white')\n",
    "#ax.yaxis.label.set_color('white')\n",
    "#ax.tick_params(axis='y', colors='white')\n",
    "plt.ylim([0,2])\n",
    "plt.tight_layout()\n",
    "plt.savefig('Presentación/Omega_HI.png',dpi=300,bbox_inches='tight')\n",
    "plt.show()"
   ]
  },
  {
   "cell_type": "markdown",
   "metadata": {},
   "source": [
    "Árbol de Lyman Alpha indicada la presencia de H neutro con el z."
   ]
  },
  {
   "cell_type": "code",
   "execution_count": 9,
   "metadata": {},
   "outputs": [],
   "source": [
    "def bias_HI(z,alpha,beta,v_c0,v_c1,Omega_m,Omega_b,h):\n",
    "    Masa = np.logspace(1,15,500)\n",
    "    potencia = np.log10(Masa[1]/Masa[0])\n",
    "    dMasa = Masa*(10**potencia-1)\n",
    "    Delta_c = mass_so.deltaVir(z)\n",
    "    integral_1 = (1/Masa)*n(Masa, z)*M_HI(Masa,alpha,beta,v_c0,v_c1,Omega_m,Omega_b,h,z,Delta_c)*bias.haloBias(Masa, model = 'jing98', z = z, mdef = 'vir')*dMasa\n",
    "    integral_1 = sum(integral_1)\n",
    "                                 \n",
    "    integral_2 = (1/Masa)*n(Masa, z)*M_HI(Masa,alpha,beta,v_c0,v_c1,Omega_m,Omega_b,h,z,Delta_c)*dMasa\n",
    "    integral_2 = sum(integral_2)\n",
    "    bias_HI = integral_1/integral_2\n",
    "    return bias_HI\n",
    "\n",
    "bias_HI = np.vectorize(bias_HI)"
   ]
  },
  {
   "cell_type": "code",
   "execution_count": 52,
   "metadata": {
    "scrolled": false
   },
   "outputs": [
    {
     "data": {
      "image/png": "[encoded data removed]",
      "text/plain": [
       "<Figure size 432x468 with 1 Axes>"
      ]
     },
     "metadata": {
      "needs_background": "light"
     },
     "output_type": "display_data"
    }
   ],
   "source": [
    "z=np.linspace(0,4,100,endpoint=True)\n",
    "plt.figure(figsize=(6,6.5))\n",
    "plt.plot(z,bias_HI(z,alpha,beta,v_c0,v_c1,Omega_m,Omega_b,h))\n",
    "plt.xlabel('z')\n",
    "plt.ylabel(r'$b_{HI}$',fontsize=20)\n",
    "ax = plt.gca()\n",
    "plt.ylim([0.7,2.2])\n",
    "#ax.xaxis.label.set_color('white')\n",
    "#ax.tick_params(axis='x', colors='white')\n",
    "#ax.yaxis.label.set_color('white')\n",
    "#ax.tick_params(axis='y', colors='white')\n",
    "plt.savefig('Presentación/b_HI.png',dpi=300)\n",
    "plt.show()"
   ]
  },
  {
   "cell_type": "markdown",
   "metadata": {},
   "source": [
    "Sesgo de que es más probable encontrar materia ordinaria en concentraciones de materia oscura. Es más homogéneo respecto a la distribución de materia oscura que otras cosas como las galaxias rojas (galaxias viejas que sí aparecen solo en grandes regiones de materia oscura)."
   ]
  },
  {
   "cell_type": "code",
   "execution_count": 11,
   "metadata": {},
   "outputs": [
    {
     "data": {
      "image/png": "[encoded data removed]",
      "text/plain": [
       "<Figure size 432x288 with 1 Axes>"
      ]
     },
     "metadata": {
      "needs_background": "light"
     },
     "output_type": "display_data"
    }
   ],
   "source": [
    "z=np.linspace(0,2,100,endpoint=True)\n",
    "plt.figure()\n",
    "plt.plot(z,bias_HI(z,alpha,beta,v_c0,v_c1,Omega_m,Omega_b,h)*Omega_HI(z,alpha,beta,v_c0,v_c1,Omega_m,Omega_b,h))\n",
    "plt.xlabel('z')\n",
    "plt.ylabel(r'$b_{HI} \\; \\Omega_{HI}$',fontsize=20)\n",
    "plt.show()"
   ]
  },
  {
   "cell_type": "markdown",
   "metadata": {},
   "source": [
    "### Usando las fórmulas de Coupon"
   ]
  },
  {
   "cell_type": "markdown",
   "metadata": {},
   "source": [
    "En este caso se usa la variable $\\nu = \\frac{\\delta_c(z)}{D(z) \\sigma(M)}$. Por lo tanto se va a calcular la función $\\sigma(M)$."
   ]
  },
  {
   "cell_type": "markdown",
   "metadata": {},
   "source": [
    "![title](sigma_M.png)"
   ]
  },
  {
   "cell_type": "code",
   "execution_count": 12,
   "metadata": {},
   "outputs": [],
   "source": [
    "#nu es adimensional\n",
    "def nu_function(z,M):\n",
    "    D_lin = cosmo.growthFactorUnnormalized(z)\n",
    "    Ez = cosmo.Ez(z)\n",
    "    Omega_m0 = Omega_m\n",
    "    Omega_z = (Omega_m0*(1+z)**3)*(Ez**(-2))\n",
    "    rho_c = (3/20)*(12*np.pi)**(2/3)*(1 + 0.013*np.log10(Omega_z))\n",
    "    nu = rho_c/(D_lin*sigma(M))\n",
    "    return nu"
   ]
  },
  {
   "cell_type": "markdown",
   "metadata": {},
   "source": [
    "Defino un vector de k que contenga los valores equiespaciados con un paso determinado entre ellos y calculo el espectro de potencias P(k) (a z=0) con camb. El vector de k comienza en un valor que no es cero para evitar problemas en los cálculos ya que luego se divide entre k en algún punto. Aunque tendría que ir hasta infinito, se empezó probando con un valor máximo de 1000 (se le añade la cantidad inicial infinitesimal para que así el valor del paso entre ellos pueda ser entero)."
   ]
  },
  {
   "cell_type": "code",
   "execution_count": 13,
   "metadata": {},
   "outputs": [],
   "source": [
    "k = 10**np.arange(-9,2,0.02)\n",
    "Pk = cosmo.matterPowerSpectrum(k)"
   ]
  },
  {
   "cell_type": "code",
   "execution_count": 14,
   "metadata": {},
   "outputs": [],
   "source": [
    "Pk_interpol = sp.interpolate.interp1d(k,Pk,kind='slinear')"
   ]
  },
  {
   "cell_type": "code",
   "execution_count": 15,
   "metadata": {},
   "outputs": [
    {
     "data": {
      "image/png": "[encoded data removed]",
      "text/plain": [
       "<Figure size 432x288 with 1 Axes>"
      ]
     },
     "metadata": {
      "needs_background": "light"
     },
     "output_type": "display_data"
    }
   ],
   "source": [
    "plt.figure()\n",
    "plt.plot(k,Pk_interpol(k),'b-',label='Pk interpolado')\n",
    "plt.xlabel('k')\n",
    "plt.ylabel('Pk')\n",
    "plt.loglog()\n",
    "plt.legend()\n",
    "plt.show()"
   ]
  },
  {
   "cell_type": "markdown",
   "metadata": {},
   "source": [
    "Ahora, para calcular $\\sigma (M)$ se integra sobre k. Para realizar la integral manualmente, creo una variable k que se va a ir aumentando en cada iteración un valor dk igual al paso definido antes. De esta manera, el i-ésimo valor de la variable k coincide con la i-ésima posición del vector P(k). "
   ]
  },
  {
   "cell_type": "code",
   "execution_count": 16,
   "metadata": {},
   "outputs": [],
   "source": [
    "def sigma_integrand(M,k):\n",
    "    rho_m0 = cosmo.rho_m(0)/(1000**3)\n",
    "    R = (3*M/(4*np.pi*rho_m0))**(1/3)\n",
    "    x = k*R\n",
    "    sigma_integrand_cuadrado = ((k**2*Pk_interpol(k))/(2*np.pi**2))*((3/x**3)*(np.sin(x)-x*np.cos(x)))**2\n",
    "    sigma_integrand = np.sqrt(sigma_integrand_cuadrado)\n",
    "    return sigma_integrand"
   ]
  },
  {
   "cell_type": "code",
   "execution_count": 17,
   "metadata": {},
   "outputs": [],
   "source": [
    "def sigma(M):\n",
    "    k = 10**np.arange(-9,2,0.02)\n",
    "    dk = k*(10**0.02-1)  \n",
    "    sigma = sum(sigma_integrand(M,k)*dk)                                                       \n",
    "    return sigma\n",
    "sigma = np.vectorize(sigma)"
   ]
  },
  {
   "cell_type": "code",
   "execution_count": 18,
   "metadata": {
    "scrolled": false
   },
   "outputs": [
    {
     "data": {
      "image/png": "[encoded data removed]",
      "text/plain": [
       "<Figure size 432x288 with 1 Axes>"
      ]
     },
     "metadata": {
      "needs_background": "light"
     },
     "output_type": "display_data"
    }
   ],
   "source": [
    "M = np.logspace(1,15,500)\n",
    "plt.figure()\n",
    "plt.plot(M,sigma(M))\n",
    "plt.xscale('log')\n",
    "plt.xlabel(r'$M \\; (M_{\\odot})$')\n",
    "plt.ylabel(r'$\\sigma \\; (M)$')\n",
    "plt.show()"
   ]
  },
  {
   "cell_type": "markdown",
   "metadata": {},
   "source": [
    "Para D(z) se usa la función de colossus cosmo.growthFactorUnnormalized(z). Para $\\delta_c(z)$ se usa la fórmula definida en el paper."
   ]
  },
  {
   "cell_type": "markdown",
   "metadata": {},
   "source": [
    "![title](rho_c.png)"
   ]
  },
  {
   "cell_type": "markdown",
   "metadata": {},
   "source": [
    "Ahora se define la función $f(\\nu)$. Para ello se usa la indicada en el paper y su condición de normalización a 1 para obtener el valor de A."
   ]
  },
  {
   "cell_type": "markdown",
   "metadata": {},
   "source": [
    "![title](f_nu.png)"
   ]
  },
  {
   "cell_type": "markdown",
   "metadata": {},
   "source": [
    "Como se dice que la integral sobre las masas es entre esos valores $M_{max}$  $M_{min}$, primero se usó la fórmula $\\nu = \\frac{\\delta_c(z)}{D(z) \\sigma(M)}$ sustituyendo cada valor de la masa para obtener las $\\nu_{max}$ y $\\nu_{min}$ y se calculó la integral normalizada para obtener el valor de A y la función $f(\\nu)$ completa. Sin embargo, estos valores de $\\nu$ eran muy grandes y la exp de la función f($\\nu$) anulaba la función completamente. Por lo tanto se evalúa los valores en función de $\\nu$ para ver dónde no se anula."
   ]
  },
  {
   "cell_type": "code",
   "execution_count": 19,
   "metadata": {},
   "outputs": [],
   "source": [
    "def f_entre_A(nu):\n",
    "    a = 1/np.sqrt(2)\n",
    "    p = 0.3 \n",
    "    f = (1/nu)*np.sqrt(2*a*nu**2/np.pi)*(1+(a*nu**2)**(-p))*np.e**(-a*nu**2/2)\n",
    "    return f\n",
    "f_entre_A = np.vectorize(f_entre_A)"
   ]
  },
  {
   "cell_type": "code",
   "execution_count": 20,
   "metadata": {},
   "outputs": [
    {
     "data": {
      "image/png": "[encoded data removed]",
      "text/plain": [
       "<Figure size 432x288 with 1 Axes>"
      ]
     },
     "metadata": {
      "needs_background": "light"
     },
     "output_type": "display_data"
    }
   ],
   "source": [
    "a = 1/np.sqrt(2)\n",
    "p = 0.3\n",
    "nu = np.linspace(-10,10,50)\n",
    "plt.plot(nu,f_entre_A(nu))\n",
    "plt.xlabel(r'$\\nu$')\n",
    "plt.ylabel(r'$f \\; / \\; A \\; (\\nu)$')\n",
    "plt.show()"
   ]
  },
  {
   "cell_type": "markdown",
   "metadata": {},
   "source": [
    "Realizamos una comprobación a ver cuánto valo en $\\nu$ = 10 y -10."
   ]
  },
  {
   "cell_type": "code",
   "execution_count": 21,
   "metadata": {},
   "outputs": [
    {
     "name": "stdout",
     "output_type": "stream",
     "text": [
      "-10 -3.791633829274169e-16\n",
      "10 3.791633829274169e-16\n"
     ]
    }
   ],
   "source": [
    "print(-10,f_entre_A(-10))\n",
    "print(10,f_entre_A(10))"
   ]
  },
  {
   "cell_type": "markdown",
   "metadata": {},
   "source": [
    "Se puede ignorar ese valor."
   ]
  },
  {
   "cell_type": "code",
   "execution_count": 22,
   "metadata": {},
   "outputs": [
    {
     "name": "stdout",
     "output_type": "stream",
     "text": [
      "0.1370580953368473\n"
     ]
    }
   ],
   "source": [
    "nu = np.linspace(0.001,10,100)\n",
    "dnu = nu[1]-nu[0]\n",
    "A = 1/(sum(f_entre_A(nu))*dnu)\n",
    "A = abs(A)\n",
    "print(A)"
   ]
  },
  {
   "cell_type": "markdown",
   "metadata": {},
   "source": [
    "Si salto el 0 al integrar, A da negativo y por lo tanto f($\\nu$) será negativa para $\\nu$ > 0, que son los valores que van a tomar con la masa positiva. Es decir, no puede ser porque la densidad daría negativa también."
   ]
  },
  {
   "cell_type": "code",
   "execution_count": 23,
   "metadata": {},
   "outputs": [],
   "source": [
    "def f(nu):\n",
    "    f = (1/nu)*A*np.sqrt(2*a*nu**2/np.pi)*(1+(a*nu**2)**(-p))*np.e**(-a*nu**2/2)\n",
    "    return f\n",
    "f = np.vectorize(f)"
   ]
  },
  {
   "cell_type": "markdown",
   "metadata": {},
   "source": [
    "Para calcular la $\\Omega_{HI}$ se hacía \n",
    "\n",
    "![title](Omega_HI.png)\n",
    "\n",
    "Ahora podemos usar la relación \n",
    "\n",
    "![title](n.png)\n",
    "\n",
    "para cambiar de variable. Como se realizan iteraciones infinitesimales donde se puede asumir que en cada iteración las funciones son constantes, lo importante es su valor numérico y no de qué variable dependen. Es decir, se puede calcular la función $M_{HI}$ usando el valor de la masa. Lo importante es que el valor de la masa usado tendría que ser el equivalente al del valor de $\\nu$. Sin embargo hay que recordar que la función f($\\nu$) puede que tome valores no nulos solo para un rango pequeño de valores. Ahora está multiplicada por el factor de normalización, se comprueba de nuevo."
   ]
  },
  {
   "cell_type": "code",
   "execution_count": 24,
   "metadata": {},
   "outputs": [
    {
     "data": {
      "image/png": "[encoded data removed]",
      "text/plain": [
       "<Figure size 432x288 with 1 Axes>"
      ]
     },
     "metadata": {
      "needs_background": "light"
     },
     "output_type": "display_data"
    }
   ],
   "source": [
    "nu = np.linspace(-1e2,1e2,1e3)\n",
    "plt.plot(nu,f(nu))\n",
    "plt.xlabel(r'$\\nu$')\n",
    "plt.ylabel(r'$f(\\nu)$')\n",
    "plt.show()"
   ]
  },
  {
   "cell_type": "code",
   "execution_count": 25,
   "metadata": {
    "scrolled": true
   },
   "outputs": [
    {
     "data": {
      "image/png": "[encoded data removed]",
      "text/plain": [
       "<Figure size 432x288 with 1 Axes>"
      ]
     },
     "metadata": {
      "needs_background": "light"
     },
     "output_type": "display_data"
    }
   ],
   "source": [
    "nu = np.linspace(-2.5,2.5,100)\n",
    "plt.plot(nu,f(nu))\n",
    "plt.xlabel(r'$\\nu$')\n",
    "plt.ylabel(r'$f(\\nu)$')\n",
    "plt.show()"
   ]
  },
  {
   "cell_type": "markdown",
   "metadata": {},
   "source": [
    "Se vuelve a comprobar a $\\nu$ = 10,-10."
   ]
  },
  {
   "cell_type": "code",
   "execution_count": 26,
   "metadata": {
    "scrolled": true
   },
   "outputs": [
    {
     "name": "stdout",
     "output_type": "stream",
     "text": [
      "-10 -5.196741108550744e-17\n",
      "10 5.196741108550744e-17\n"
     ]
    }
   ],
   "source": [
    "print(-10,f(-10))\n",
    "print(10,f(10))"
   ]
  },
  {
   "cell_type": "markdown",
   "metadata": {},
   "source": [
    "Se pueden ignorar completamente"
   ]
  },
  {
   "cell_type": "code",
   "execution_count": 27,
   "metadata": {
    "scrolled": false
   },
   "outputs": [
    {
     "data": {
      "image/png": "[encoded data removed]",
      "text/plain": [
       "<Figure size 432x288 with 1 Axes>"
      ]
     },
     "metadata": {
      "needs_background": "light"
     },
     "output_type": "display_data"
    }
   ],
   "source": [
    "z = 2\n",
    "M = np.logspace(0,15,100)\n",
    "plt.figure()\n",
    "plt.plot(M,nu_function(z,M))\n",
    "plt.xlabel(r'$M \\; (M_{\\cdot})$')\n",
    "plt.ylabel(r'$\\nu \\; (M)$')\n",
    "plt.loglog()\n",
    "plt.show()"
   ]
  },
  {
   "cell_type": "code",
   "execution_count": 28,
   "metadata": {},
   "outputs": [
    {
     "data": {
      "image/png": "[encoded data removed]",
      "text/plain": [
       "<Figure size 432x288 with 1 Axes>"
      ]
     },
     "metadata": {
      "needs_background": "light"
     },
     "output_type": "display_data"
    }
   ],
   "source": [
    "z = 1\n",
    "M = np.logspace(11,15,100)\n",
    "nu = nu_function(z,M)\n",
    "plt.plot(M,f(nu))\n",
    "plt.xscale('log')\n",
    "#plt.yscale('log')\n",
    "plt.xlabel(r'$M \\; (M_{\\cdot})$')\n",
    "plt.ylabel(r'$f(M)$')\n",
    "plt.show()"
   ]
  },
  {
   "cell_type": "code",
   "execution_count": 29,
   "metadata": {},
   "outputs": [],
   "source": [
    "#unidades h**3 /Mpc**3 \n",
    "def n_Coupon(M,z):\n",
    "    nu = nu_function(z,M)\n",
    "    return cosmo.rho_m(0)*f(nu)*(1/M)*(1/h)*1000**3"
   ]
  },
  {
   "cell_type": "code",
   "execution_count": 30,
   "metadata": {
    "scrolled": true
   },
   "outputs": [
    {
     "name": "stdout",
     "output_type": "stream",
     "text": [
      "2.13024476717413\n"
     ]
    }
   ],
   "source": [
    "nu = nu_function(1,0.00001)\n",
    "print(nu)"
   ]
  },
  {
   "cell_type": "markdown",
   "metadata": {},
   "source": [
    "Desde la masa inicial de 10*0 = 1, $\\nu$ toma ese valor, que ya es mayor que cero."
   ]
  },
  {
   "cell_type": "code",
   "execution_count": 31,
   "metadata": {},
   "outputs": [
    {
     "name": "stdout",
     "output_type": "stream",
     "text": [
      "0.03151296053205833\n"
     ]
    }
   ],
   "source": [
    "f1 = f(nu)\n",
    "print(f1)"
   ]
  },
  {
   "cell_type": "markdown",
   "metadata": {},
   "source": [
    "f($\\nu$ = 0.05) = 7306106348599452.0"
   ]
  },
  {
   "cell_type": "code",
   "execution_count": 32,
   "metadata": {
    "scrolled": false
   },
   "outputs": [
    {
     "name": "stderr",
     "output_type": "stream",
     "text": [
      "D:\\Anaconda\\lib\\site-packages\\ipykernel\\pylab\\backend_inline.py:183: UserWarning: Data has no positive values, and therefore cannot be log-scaled.\n",
      "  for label in axis.get_ticklabels()])\n"
     ]
    },
    {
     "data": {
      "image/png": "[encoded data removed]",
      "text/plain": [
       "<Figure size 432x288 with 1 Axes>"
      ]
     },
     "metadata": {
      "needs_background": "light"
     },
     "output_type": "display_data"
    }
   ],
   "source": [
    "plt.figure()\n",
    "plt.xscale('log')\n",
    "plt.yscale('log')\n",
    "plt.xlabel(r'$M \\; (M_{\\odot})$')\n",
    "plt.ylabel(r'n (M,z) (${(Mpc \\; / \\; h)}^{-3}$)')\n",
    "plt.title('n(M,z) Coupon')\n",
    "redshift = np.linspace(0.00001,2,5)\n",
    "M = np.logspace(0,15,100)\n",
    "for z in redshift:\n",
    "    plt.plot(M,n_Coupon(M,z),label='z = {:.1f}'.format(z))\n",
    "    plt.legend()\n",
    "plt.show()"
   ]
  },
  {
   "cell_type": "code",
   "execution_count": 33,
   "metadata": {
    "scrolled": true
   },
   "outputs": [
    {
     "data": {
      "image/png": "[encoded data removed]",
      "text/plain": [
       "<Figure size 432x288 with 1 Axes>"
      ]
     },
     "metadata": {
      "needs_background": "light"
     },
     "output_type": "display_data"
    }
   ],
   "source": [
    "plt.figure()\n",
    "plt.xscale('log')\n",
    "plt.yscale('log')\n",
    "plt.xlabel(r'$M \\; (M_{\\odot})$')\n",
    "plt.ylabel(r'n (M,z) (${(Mpc \\; / \\; h)}^{-3}$)')\n",
    "plt.title('n(M,z) colossus')\n",
    "redshift = np.linspace(0,2,5)\n",
    "Masa = np.logspace(0,15)\n",
    "for z in redshift:\n",
    "    plt.plot(Masa,n(Masa, z),label='z = {:.1f}'.format(z))\n",
    "    plt.legend()\n",
    "plt.show()"
   ]
  },
  {
   "cell_type": "code",
   "execution_count": 34,
   "metadata": {
    "scrolled": false
   },
   "outputs": [
    {
     "data": {
      "image/png": "[encoded data removed]",
      "text/plain": [
       "<Figure size 432x288 with 1 Axes>"
      ]
     },
     "metadata": {
      "needs_background": "light"
     },
     "output_type": "display_data"
    }
   ],
   "source": [
    "z = 1\n",
    "M = np.logspace(0,15,100)\n",
    "Delta_c = mass_so.deltaVir(z)\n",
    "plt.figure()\n",
    "plt.plot(M,M_HI(M,alpha,beta,v_c0,v_c1,Omega_m,Omega_b,h,z,Delta_c))\n",
    "plt.xscale('log')\n",
    "plt.yscale('log')\n",
    "plt.xlabel(r'$M \\; (M_{\\odot})$')\n",
    "plt.ylabel(r'$M_{HI} (M_{\\odot})$')\n",
    "plt.show()"
   ]
  },
  {
   "cell_type": "code",
   "execution_count": 35,
   "metadata": {},
   "outputs": [],
   "source": [
    "#adimensional\n",
    "def Omega_HI_integrand(z,M):\n",
    "    Delta_c = mass_so.deltaVir(z)\n",
    "    integrando = (1/cosmo.rho_c(0))*M_HI(M,alpha,beta,v_c0,v_c1,Omega_m,Omega_b,h,z,Delta_c)*n_Coupon(M,z)*h*(1/1000**3)\n",
    "    return integrando \n",
    "Omega_HI_integrand = np.vectorize(Omega_HI_integrand)"
   ]
  },
  {
   "cell_type": "code",
   "execution_count": 36,
   "metadata": {
    "scrolled": true
   },
   "outputs": [
    {
     "data": {
      "image/png": "[encoded data removed]",
      "text/plain": [
       "<Figure size 432x288 with 1 Axes>"
      ]
     },
     "metadata": {
      "needs_background": "light"
     },
     "output_type": "display_data"
    }
   ],
   "source": [
    "z = 1\n",
    "M = np.logspace(0,15,100)\n",
    "plt.figure()\n",
    "plt.xscale('log')\n",
    "#plt.yscale('log')\n",
    "plt.xlabel(r'$M \\; (M_{\\odot})$')\n",
    "plt.ylabel(r'$\\Omega_{HI}$ integrando',fontsize=20)\n",
    "plt.plot(M,Omega_HI_integrand(z,M))\n",
    "plt.show()"
   ]
  },
  {
   "cell_type": "code",
   "execution_count": 37,
   "metadata": {},
   "outputs": [],
   "source": [
    "#dimensional\n",
    "def Omega_HI(z):\n",
    "    Delta_c = mass_so.deltaVir(z)\n",
    "    M = np.logspace(1,15,100)\n",
    "    nu = nu_function(z,M)\n",
    "    dnu = []\n",
    "    for i in range(len(nu)-1):      \n",
    "        dnu_scalar = nu[i+1]-nu[i]\n",
    "        dnu.append(dnu_scalar)\n",
    "    dnu = np.array(dnu)\n",
    "    M = np.delete(M, -1)\n",
    "    nu = np.delete(nu,-1)\n",
    "    Omega_HI = sum(Omega_HI_integrand(z,M)*dnu)\n",
    "    return Omega_HI #revisar las unidades\n",
    "Omega_HI = np.vectorize(Omega_HI)"
   ]
  },
  {
   "cell_type": "markdown",
   "metadata": {},
   "source": [
    "#### Unidades\n",
    "$\\nu$ tiene las unidades de $\\delta_c$ (adim)\n",
    "Creo que f($\\nu$) es adimensional. Por lo tanto n(M,z) tiene las unidades de $\\rho_0$/M = $h^2$/$kpc^3$"
   ]
  },
  {
   "cell_type": "code",
   "execution_count": 38,
   "metadata": {
    "scrolled": false
   },
   "outputs": [
    {
     "data": {
      "image/png": "[encoded data removed]",
      "text/plain": [
       "<Figure size 432x288 with 1 Axes>"
      ]
     },
     "metadata": {
      "needs_background": "light"
     },
     "output_type": "display_data"
    }
   ],
   "source": [
    "z=np.linspace(0,2,100,endpoint=True)\n",
    "plt.figure()\n",
    "plt.plot(z,Omega_HI(z))\n",
    "plt.xlabel('z')\n",
    "plt.ylabel(r'$\\Omega_{HI}$',fontsize=20)\n",
    "plt.show()"
   ]
  },
  {
   "cell_type": "markdown",
   "metadata": {},
   "source": [
    "Parece que el integrando da cero porque cuando n(M,z) tiene un valor significativo, $M_{HI}$ deja de tenerlo y vice versa (se cancelan). "
   ]
  },
  {
   "cell_type": "markdown",
   "metadata": {},
   "source": [
    "### Halo bias"
   ]
  },
  {
   "cell_type": "code",
   "execution_count": 39,
   "metadata": {},
   "outputs": [],
   "source": [
    "def b_integrand(M,z):   \n",
    "    nu = nu_function(z,M)\n",
    "    a = 1/np.sqrt(2)\n",
    "    b = 0.35\n",
    "    c = 0.8\n",
    "    Ez = cosmo.Ez(z)\n",
    "    Omega_m0 = Omega_m\n",
    "    Omega_z = (Omega_m0*(1+z)**3)*(Ez**(-2))\n",
    "    rho_c = (3/20)*(12*np.pi)**(2/3)*(1 + 0.013*np.log10(Omega_z))\n",
    "    b_integrand = 1 + (1/(np.sqrt(a)*rho_c))*(np.sqrt(a)*(a*nu**2)+np.sqrt(a)*b*(a*nu**2)**(1-c)-(a*nu**2)**c/((a*nu**2)**c+b*(1-c)*(1-c/2)))\n",
    "    return b_integrand"
   ]
  },
  {
   "cell_type": "code",
   "execution_count": 40,
   "metadata": {
    "scrolled": true
   },
   "outputs": [
    {
     "data": {
      "image/png": "[encoded data removed]",
      "text/plain": [
       "<Figure size 432x288 with 1 Axes>"
      ]
     },
     "metadata": {
      "needs_background": "light"
     },
     "output_type": "display_data"
    }
   ],
   "source": [
    "z = 0\n",
    "M = np.logspace(1,15,100) \n",
    "plt.figure()\n",
    "plt.xscale('log')\n",
    "plt.yscale('log')\n",
    "plt.xlabel(r'$M \\; (M_{\\odot})$')\n",
    "plt.ylabel(r'$b_halo (M,z=0)$ integrando',fontsize=20)\n",
    "plt.plot(M,b_integrand(M,z))\n",
    "plt.show()\n"
   ]
  },
  {
   "cell_type": "code",
   "execution_count": 41,
   "metadata": {},
   "outputs": [],
   "source": [
    "def b_halo(z):\n",
    "    M = np.logspace(1,15,500)\n",
    "    potencia = np.log10(Masa[1]/Masa[0])\n",
    "    dM = M*(10**potencia - 1)\n",
    "    b_halo = sum((1/M)*b_integrand(M,z)*dM)\n",
    "    return b_halo\n",
    "b_halo = np.vectorize(b_halo)"
   ]
  },
  {
   "cell_type": "code",
   "execution_count": 42,
   "metadata": {},
   "outputs": [
    {
     "data": {
      "image/png": "[encoded data removed]",
      "text/plain": [
       "<Figure size 432x288 with 1 Axes>"
      ]
     },
     "metadata": {
      "needs_background": "light"
     },
     "output_type": "display_data"
    }
   ],
   "source": [
    "z = np.linspace(0,2,100)\n",
    "plt.figure()\n",
    "plt.yscale('log')\n",
    "plt.xlabel('z')\n",
    "plt.ylabel(r'$b_{halo}(z)$',fontsize=20)\n",
    "plt.plot(z,b_halo(z))\n",
    "plt.show()"
   ]
  },
  {
   "cell_type": "code",
   "execution_count": 43,
   "metadata": {},
   "outputs": [],
   "source": [
    "#def b(z):\n",
    "    #M = np.logspace(1,15,100)\n",
    "    #nu = nu_function(z,M)\n",
    "    #b_integrand(nu,z)\n",
    "    #dnu = []\n",
    "    #for i in range(len(nu)-1):      \n",
    "        #dnu_scalar = nu[i+1]-nu[i]\n",
    "        #dnu.append(dnu_scalar)\n",
    "    #dnu = np.array(dnu)\n",
    "    #M = np.delete(M, -1)\n",
    "    #nu = np.delete(nu,-1)\n",
    "    #Delta_c = mass_so.deltaVir(z)\n",
    "    #Integral1 = sum(M_HI(M,alpha,beta,v_c0,v_c1,Omega_m,Omega_b,h,z,Delta_c)*b_integrand(nu,z)*n_Coupon(M,z)*dnu)\n",
    "    #Integral2 = sum(M_HI(M,alpha,beta,v_c0,v_c1,Omega_m,Omega_b,h,z,Delta_c)*n_Coupon(M,z)*dnu)\n",
    "    #b = Integral1/Integral2\n",
    "    #return b\n",
    "#b = np.vectorize(b)"
   ]
  },
  {
   "cell_type": "code",
   "execution_count": 44,
   "metadata": {},
   "outputs": [],
   "source": [
    "def b(z):\n",
    "    M = np.logspace(1,15,100)\n",
    "    potencia = np.log10(M[1]/M[0])\n",
    "    dM = M*(10**potencia-1)\n",
    "    dM = dM.tolist()\n",
    "    dM = dM.pop(-1)\n",
    "    dM = np.array(dM)\n",
    "    sigma_ = sigma(M)\n",
    "    sigma_ = sigma_.tolist()\n",
    "    sigma_ = sigma_.pop(-1)\n",
    "    sigma_ = np.array(sigma_)\n",
    "\n",
    "    D_lin = cosmo.growthFactorUnnormalized(z)\n",
    "    Ez = cosmo.Ez(z)\n",
    "    Omega_m0 = Omega_m\n",
    "    Omega_z = (Omega_m0*(1+z)**3)*(Ez**(-2))\n",
    "    rho_c = (3/20)*(12*np.pi)**(2/3)*(1 + 0.013*np.log10(Omega_z))\n",
    "    \n",
    "    nu = nu_function(z,M)\n",
    "    dnu = -(rho_c/(D_lin*(sigma_**2)))*(np.diff(sigma(M))/np.diff(M))*dM\n",
    "    \n",
    "    Delta_c = mass_so.deltaVir(z)\n",
    "    \n",
    "    M = M.tolist()\n",
    "    M = M.pop(-1)\n",
    "    M = np.array(M)\n",
    "    nu = nu.tolist()\n",
    "    nu = nu.pop(-1)\n",
    "    nu = np.array(nu)\n",
    "    Integral1 = sum(M_HI(M,alpha,beta,v_c0,v_c1,Omega_m,Omega_b,h,z,Delta_c)*b_integrand(nu,z)*n_Coupon(M,z)*dnu)\n",
    "    Integral2 = sum(M_HI(M,alpha,beta,v_c0,v_c1,Omega_m,Omega_b,h,z,Delta_c)*n_Coupon(M,z)*dnu)\n",
    "    b = Integral1/Integral2\n",
    "    return b\n",
    "b = np.vectorize(b)"
   ]
  },
  {
   "cell_type": "code",
   "execution_count": 45,
   "metadata": {
    "scrolled": false
   },
   "outputs": [
    {
     "name": "stderr",
     "output_type": "stream",
     "text": [
      "D:\\Anaconda\\lib\\site-packages\\ipykernel_launcher.py:32: RuntimeWarning: invalid value encountered in double_scalars\n",
      "D:\\Anaconda\\lib\\site-packages\\numpy\\lib\\function_base.py:2167: RuntimeWarning: invalid value encountered in ? (vectorized)\n",
      "  outputs = ufunc(*inputs)\n"
     ]
    },
    {
     "data": {
      "image/png": "[encoded data removed]",
      "text/plain": [
       "<Figure size 432x288 with 1 Axes>"
      ]
     },
     "metadata": {
      "needs_background": "light"
     },
     "output_type": "display_data"
    }
   ],
   "source": [
    "z=np.linspace(0,2,100,endpoint=True)\n",
    "\n",
    "plt.figure()\n",
    "plt.plot(z,b(z))\n",
    "plt.xlabel('z')\n",
    "plt.ylabel(r'$b_{HI}$',fontsize=20)\n",
    "plt.show()"
   ]
  }
 ],
 "metadata": {
  "kernelspec": {
   "display_name": "Python 3",
   "language": "python",
   "name": "python3"
  },
  "language_info": {
   "codemirror_mode": {
    "name": "ipython",
    "version": 3
   },
   "file_extension": ".py",
   "mimetype": "text/x-python",
   "name": "python",
   "nbconvert_exporter": "python",
   "pygments_lexer": "ipython3",
   "version": "3.7.9"
  }
 },
 "nbformat": 4,
 "nbformat_minor": 2
}
